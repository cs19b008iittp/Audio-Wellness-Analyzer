{
  "nbformat": 4,
  "nbformat_minor": 0,
  "metadata": {
    "colab": {
      "provenance": []
    },
    "kernelspec": {
      "name": "python3",
      "display_name": "Python 3"
    },
    "language_info": {
      "name": "python"
    }
  },
  "cells": [
    {
      "cell_type": "code",
      "execution_count": null,
      "metadata": {
        "colab": {
          "base_uri": "https://localhost:8080/"
        },
        "id": "-LI2lUPIe5k_",
        "outputId": "8772955e-60c9-43dc-ee46-8858bf2c540d"
      },
      "outputs": [
        {
          "output_type": "stream",
          "name": "stdout",
          "text": [
            "  Installing build dependencies ... \u001b[?25l\u001b[?25hdone\n",
            "  Getting requirements to build wheel ... \u001b[?25l\u001b[?25hdone\n",
            "  Preparing metadata (pyproject.toml) ... \u001b[?25l\u001b[?25hdone\n",
            "\u001b[2K   \u001b[90m━━━━━━━━━━━━━━━━━━━━━━━━━━━━━━━━━━━━━━━━\u001b[0m \u001b[32m1.2/1.2 MB\u001b[0m \u001b[31m11.6 MB/s\u001b[0m eta \u001b[36m0:00:00\u001b[0m\n",
            "\u001b[2K   \u001b[90m━━━━━━━━━━━━━━━━━━━━━━━━━━━━━━━━━━━━━━━━\u001b[0m \u001b[32m363.4/363.4 MB\u001b[0m \u001b[31m1.8 MB/s\u001b[0m eta \u001b[36m0:00:00\u001b[0m\n",
            "\u001b[2K   \u001b[90m━━━━━━━━━━━━━━━━━━━━━━━━━━━━━━━━━━━━━━━━\u001b[0m \u001b[32m13.8/13.8 MB\u001b[0m \u001b[31m95.8 MB/s\u001b[0m eta \u001b[36m0:00:00\u001b[0m\n",
            "\u001b[2K   \u001b[90m━━━━━━━━━━━━━━━━━━━━━━━━━━━━━━━━━━━━━━━━\u001b[0m \u001b[32m24.6/24.6 MB\u001b[0m \u001b[31m72.9 MB/s\u001b[0m eta \u001b[36m0:00:00\u001b[0m\n",
            "\u001b[2K   \u001b[90m━━━━━━━━━━━━━━━━━━━━━━━━━━━━━━━━━━━━━━━━\u001b[0m \u001b[32m883.7/883.7 kB\u001b[0m \u001b[31m35.7 MB/s\u001b[0m eta \u001b[36m0:00:00\u001b[0m\n",
            "\u001b[2K   \u001b[90m━━━━━━━━━━━━━━━━━━━━━━━━━━━━━━━━━━━━━━━━\u001b[0m \u001b[32m664.8/664.8 MB\u001b[0m \u001b[31m2.3 MB/s\u001b[0m eta \u001b[36m0:00:00\u001b[0m\n",
            "\u001b[2K   \u001b[90m━━━━━━━━━━━━━━━━━━━━━━━━━━━━━━━━━━━━━━━━\u001b[0m \u001b[32m211.5/211.5 MB\u001b[0m \u001b[31m7.2 MB/s\u001b[0m eta \u001b[36m0:00:00\u001b[0m\n",
            "\u001b[2K   \u001b[90m━━━━━━━━━━━━━━━━━━━━━━━━━━━━━━━━━━━━━━━━\u001b[0m \u001b[32m56.3/56.3 MB\u001b[0m \u001b[31m12.5 MB/s\u001b[0m eta \u001b[36m0:00:00\u001b[0m\n",
            "\u001b[2K   \u001b[90m━━━━━━━━━━━━━━━━━━━━━━━━━━━━━━━━━━━━━━━━\u001b[0m \u001b[32m127.9/127.9 MB\u001b[0m \u001b[31m6.9 MB/s\u001b[0m eta \u001b[36m0:00:00\u001b[0m\n",
            "\u001b[2K   \u001b[90m━━━━━━━━━━━━━━━━━━━━━━━━━━━━━━━━━━━━━━━━\u001b[0m \u001b[32m207.5/207.5 MB\u001b[0m \u001b[31m5.9 MB/s\u001b[0m eta \u001b[36m0:00:00\u001b[0m\n",
            "\u001b[2K   \u001b[90m━━━━━━━━━━━━━━━━━━━━━━━━━━━━━━━━━━━━━━━━\u001b[0m \u001b[32m21.1/21.1 MB\u001b[0m \u001b[31m55.8 MB/s\u001b[0m eta \u001b[36m0:00:00\u001b[0m\n",
            "\u001b[?25h  Building wheel for openai-whisper (pyproject.toml) ... \u001b[?25l\u001b[?25hdone\n",
            "\u001b[2K   \u001b[90m━━━━━━━━━━━━━━━━━━━━━━━━━━━━━━━━━━━━━━━━\u001b[0m \u001b[32m95.2/95.2 kB\u001b[0m \u001b[31m4.0 MB/s\u001b[0m eta \u001b[36m0:00:00\u001b[0m\n",
            "\u001b[2K   \u001b[90m━━━━━━━━━━━━━━━━━━━━━━━━━━━━━━━━━━━━━━━━\u001b[0m \u001b[32m62.4/62.4 kB\u001b[0m \u001b[31m3.8 MB/s\u001b[0m eta \u001b[36m0:00:00\u001b[0m\n",
            "\u001b[2K   \u001b[90m━━━━━━━━━━━━━━━━━━━━━━━━━━━━━━━━━━━━━━━━\u001b[0m \u001b[32m46.9/46.9 MB\u001b[0m \u001b[31m13.5 MB/s\u001b[0m eta \u001b[36m0:00:00\u001b[0m\n",
            "\u001b[2K   \u001b[90m━━━━━━━━━━━━━━━━━━━━━━━━━━━━━━━━━━━━━━━━\u001b[0m \u001b[32m322.2/322.2 kB\u001b[0m \u001b[31m19.2 MB/s\u001b[0m eta \u001b[36m0:00:00\u001b[0m\n",
            "\u001b[2K   \u001b[90m━━━━━━━━━━━━━━━━━━━━━━━━━━━━━━━━━━━━━━━━\u001b[0m \u001b[32m11.4/11.4 MB\u001b[0m \u001b[31m95.9 MB/s\u001b[0m eta \u001b[36m0:00:00\u001b[0m\n",
            "\u001b[2K   \u001b[90m━━━━━━━━━━━━━━━━━━━━━━━━━━━━━━━━━━━━━━━━\u001b[0m \u001b[32m72.0/72.0 kB\u001b[0m \u001b[31m5.0 MB/s\u001b[0m eta \u001b[36m0:00:00\u001b[0m\n",
            "\u001b[?25h"
          ]
        }
      ],
      "source": [
        "!pip install -q git+https://github.com/openai/whisper.git\n",
        "!pip install -q pydub librosa transformers scikit-learn fastapi uvicorn gradio\n"
      ]
    },
    {
      "cell_type": "code",
      "source": [
        "import os\n",
        "import whisper\n",
        "import librosa\n",
        "import numpy as np\n",
        "import pandas as pd\n",
        "import matplotlib.pyplot as plt\n",
        "from sklearn.preprocessing import StandardScaler\n",
        "from sklearn.ensemble import IsolationForest\n",
        "from sklearn.decomposition import PCA\n",
        "from sklearn.cluster import KMeans\n",
        "from pydub import AudioSegment\n",
        "from IPython.display import Audio, display"
      ],
      "metadata": {
        "id": "nLSnnGxnflQK"
      },
      "execution_count": null,
      "outputs": []
    },
    {
      "cell_type": "code",
      "source": [
        "from google.colab import drive\n",
        "drive.mount('/content/drive')\n",
        "\n",
        "AUDIO_DIR = \"/content/drive/MyDrive/audio_samples\"\n",
        "audio_files = [os.path.join(AUDIO_DIR, f) for f in os.listdir(AUDIO_DIR) if f.endswith(\".wav\")]\n"
      ],
      "metadata": {
        "colab": {
          "base_uri": "https://localhost:8080/"
        },
        "id": "rV7u_EWHfsfW",
        "outputId": "5e15e19b-e01d-4f0c-e5d5-a2de72c8b906"
      },
      "execution_count": null,
      "outputs": [
        {
          "output_type": "stream",
          "name": "stdout",
          "text": [
            "Drive already mounted at /content/drive; to attempt to forcibly remount, call drive.mount(\"/content/drive\", force_remount=True).\n"
          ]
        }
      ]
    },
    {
      "cell_type": "code",
      "source": [
        "# 2. TRANSCRIPTION (Whisper)\n",
        "# =======================\n",
        "import warnings\n",
        "warnings.filterwarnings(\"ignore\", message=\"FP16 is not supported on CPU; using FP32 instead\")\n",
        "\n",
        "model = whisper.load_model(\"base\")  # Can use \"small\" or \"medium\" for better accuracy\n",
        "\n",
        "transcripts = {}\n",
        "\n",
        "for file in audio_files:\n",
        "    print(f\"Transcribing {file}...\")\n",
        "    result = model.transcribe(file)\n",
        "    transcripts[file] = result['text']\n",
        "    print(result['text'])\n"
      ],
      "metadata": {
        "colab": {
          "base_uri": "https://localhost:8080/"
        },
        "id": "gpfAd0UBgQPh",
        "outputId": "abfea706-7433-4b75-bf34-7ad65d3fc833"
      },
      "execution_count": null,
      "outputs": [
        {
          "output_type": "stream",
          "name": "stdout",
          "text": [
            "Transcribing /content/drive/MyDrive/audio_samples/harvard.wav...\n",
            " The stale smell of old beer lingers. It takes heat to bring out the odor. A cold dip restores health and zest. A salt pickle tastes fine with ham. Tacos al pastor are my favorite. A zestful food is the hot cross bun.\n",
            "Transcribing /content/drive/MyDrive/audio_samples/genevieve.wav...\n",
            " This dynamic workshop aims to provide up to date information on pharmacological approaches, comma, issues, comma, and treatment in the geriatric population to assist in preventing medication-related problems, comma, appropriately and effectively managing medications and compliance period. The concept of polypharmacy, parentheses, taking multiple types of drugs, parentheses, will also be discussed, comma, as this is a common issue that can impact adverse side effects in the geriatric population period. Participants will leave with the knowledge and considerations of common drug interaction and how to minimize effects that limit function. Period. Summit Professional Education is approved provider of continuing education. Period. This course is offered for six units, period. This course contains content classified under both the domain of occupational therapy and professional issues, period.\n",
            "Transcribing /content/drive/MyDrive/audio_samples/winston-churchill.wav...\n",
            " Many people think that the best way to escape war is to dwell upon its horrors and to imprint them vividly upon the minds of the younger generation. They flaunt the grizzly photographs before their eyes. They fill their ears with tales of carnage. They dilate upon the ineptitude of generals and admins. They denounce the crime and insensate folly of human strife. Now all this teaching ought to be very useful in preventing us from attacking or invading any other country. If anyone outside a madhouse wished to do so. But how would it help us if we were attacked or invaded ourselves? That is the question we have to ask. Would the invaders' consent to visit Lord Bieberbrook's exhibition or listen to the impassioned appeals of Mr. Lloyd George? Would they agree to meet that famous South African General Smuts and have their inferiority complex removed in friendly reasonable debate? I doubt it. I have borne responsibility for the safety of this country in grievous times. I gravely doubt it. But even if they did, I am not so sure we should convince them and persuade them to go back quietly home. They might say it seems to me. You are rich. We are poor. You seem well said. We are hungry. You have been victorious. We have been defeated. You have valuable colonies. We have none. You have your native. Where is ours? You have had the past that I said the future. Above all, I fear they would say you are weak and we are strong. After all, my friends, only a few are the way by air that dwells the nation of nearly 70 millions of the most educated, industrial, scientific, disciplined people in the world. Who are being taught from childhood to think of war as a glory of exercise and death in battle as the noblest fate for man. There is a nation which should abandon all its liberties in order to augment its collective strength. There is a nation which with all its strength and virtue is in the grip of a group of ruthless men preaching a gospel of intolerance and racial pride unrestrained by law, by parliament or by public opinion. In that country, all passive speeches, all morbid war books, are forbidden or suppressed and are author rigorously imprisoned. From their new table of commandment, they have omitted. Thou shalt not kill. It is for twenty years since these neighbors of ours fought almost the whole world and almost defeated them. Now they are rearning with the utmost speed. And ready to their hands is this new lamentable weapon of the air against which our navy is no defense. And before which women and children, the weakened frail, the pacifist and the jingo, the warrior and the civilian, the frontline trenches and the cottage home, all lie in equal and impartial perils. They were still for with the new weapons and come a new method. Their other had come back the most brutish methods of ancient barbarism, namely the possibility of compelling the submission of racism by carerizing and torturing their civil populations. And worst of all, the more civilized the country is, the larger and more splendid cities, the more intricate the structure of its social and economic life, the more it is vulnerable, the more it is that the mercy of those who may make it their prey. Now these effects are grim, indiscutable facts and in fact the facts are against what are we to do.\n"
          ]
        }
      ]
    },
    {
      "cell_type": "code",
      "source": [
        "#  3. AUDIO FEATURES EXTRACTION\n",
        "# =======================\n",
        "\n",
        "def extract_audio_features(file):\n",
        "    y, sr = librosa.load(file)\n",
        "\n",
        "    # Duration\n",
        "    duration = librosa.get_duration(y=y, sr=sr)\n",
        "\n",
        "    # Pitch features\n",
        "    pitches, magnitudes = librosa.piptrack(y=y, sr=sr)\n",
        "    pitch = pitches[magnitudes > np.median(magnitudes)]\n",
        "    pitch_mean = np.mean(pitch)\n",
        "    pitch_std = np.std(pitch)\n",
        "\n",
        "    # Speech rate estimation (words/sec)\n",
        "    transcript = transcripts[file]\n",
        "    num_words = len(transcript.split())\n",
        "    speech_rate = num_words / duration\n",
        "\n",
        "    # Silence detection using energy threshold\n",
        "    intervals = librosa.effects.split(y, top_db=30)\n",
        "    silence_durations = []\n",
        "    for i in range(1, len(intervals)):\n",
        "        prev_end = intervals[i-1][1]\n",
        "        curr_start = intervals[i][0]\n",
        "        silence_durations.append((curr_start - prev_end) / sr)\n",
        "\n",
        "    avg_pause = np.mean(silence_durations) if silence_durations else 0\n",
        "    pause_count = len(silence_durations)\n",
        "\n",
        "    # Hesitation markers\n",
        "    hesitations = transcript.lower().count(\"uh\") + transcript.lower().count(\"um\")\n",
        "\n",
        "    return {\n",
        "        \"filename\": os.path.basename(file),\n",
        "        \"duration_sec\": duration,\n",
        "        \"speech_rate\": speech_rate,\n",
        "        \"avg_pause\": avg_pause,\n",
        "        \"pause_count\": pause_count,\n",
        "        \"pitch_mean\": pitch_mean,\n",
        "        \"pitch_std\": pitch_std,\n",
        "        \"hesitations\": hesitations,\n",
        "    }\n",
        "\n",
        "feature_list = [extract_audio_features(file) for file in audio_files]\n",
        "feature_df = pd.DataFrame(feature_list)\n"
      ],
      "metadata": {
        "id": "Q-NSnTH8gWUc"
      },
      "execution_count": null,
      "outputs": []
    },
    {
      "cell_type": "code",
      "source": [
        "# 4. UNSUPERVISED MODELING\n",
        "# =======================\n",
        "\n",
        "X = feature_df.drop(columns=['filename'])\n",
        "scaler = StandardScaler()\n",
        "X_scaled = scaler.fit_transform(X)\n",
        "\n",
        "model = IsolationForest(contamination=0.3)\n",
        "feature_df['anomaly_score'] = model.fit_predict(X_scaled)\n",
        "\n",
        "pca = PCA(n_components=2)\n",
        "X_pca = pca.fit_transform(X_scaled)\n",
        "feature_df['pca_x'] = X_pca[:, 0]\n",
        "feature_df['pca_y'] = X_pca[:, 1]"
      ],
      "metadata": {
        "id": "WfC4Ts30hQGA"
      },
      "execution_count": null,
      "outputs": []
    },
    {
      "cell_type": "code",
      "source": [
        "print(feature_df)\n"
      ],
      "metadata": {
        "colab": {
          "base_uri": "https://localhost:8080/"
        },
        "id": "m7GzedPoh2Kz",
        "outputId": "f48a3852-b9c7-4190-e213-8c185e7872e5"
      },
      "execution_count": null,
      "outputs": [
        {
          "output_type": "stream",
          "name": "stdout",
          "text": [
            "                filename  duration_sec  speech_rate  avg_pause  pause_count  \\\n",
            "0            harvard.wav     18.356190     2.342534   0.193500           21   \n",
            "1          genevieve.wav     70.334558     1.777220   0.191332           50   \n",
            "2  winston-churchill.wav    295.056009     1.999620   0.463556          248   \n",
            "\n",
            "    pitch_mean    pitch_std  hesitations  anomaly_score     pca_x     pca_y  \n",
            "0  1532.100220  1147.677856            0              1 -2.274300  1.414326  \n",
            "1  1326.209961  1079.390259            1              1 -0.711472 -2.012163  \n",
            "2  1657.135864   996.790100            1             -1  2.985772  0.597837  \n"
          ]
        }
      ]
    },
    {
      "cell_type": "code",
      "source": [
        "# 5. VISUALIZATION\n",
        "# =======================\n",
        "\n",
        "plt.figure(figsize=(8,6))\n",
        "plt.title(\"PCA - Anomaly Detection\")\n",
        "plt.scatter(feature_df['pca_x'], feature_df['pca_y'], c=feature_df['anomaly_score'], cmap='coolwarm', s=100)\n",
        "for i, row in feature_df.iterrows():\n",
        "    plt.text(row['pca_x']+0.02, row['pca_y'], row['filename'], fontsize=9)\n",
        "plt.xlabel(\"PCA 1\")\n",
        "plt.ylabel(\"PCA 2\")\n",
        "plt.grid()\n",
        "plt.show()\n"
      ],
      "metadata": {
        "colab": {
          "base_uri": "https://localhost:8080/",
          "height": 564
        },
        "id": "57v6L0GXhWg1",
        "outputId": "00d2e81a-3590-43d8-962e-8183ec155802"
      },
      "execution_count": null,
      "outputs": [
        {
          "output_type": "display_data",
          "data": {
            "text/plain": [
              "<Figure size 800x600 with 1 Axes>"
            ],
            "image/png": "[encoded data removed]"
          },
          "metadata": {}
        }
      ]
    },
    {
      "cell_type": "code",
      "source": [
        "#  6. REPORT (Markdown Style)\n",
        "# =======================\n",
        "\n",
        "from IPython.display import Markdown\n",
        "\n",
        "Markdown(\"\"\"\n",
        "### 🔍 Report Summary\n",
        "\n",
        "**Most Insightful Features:**\n",
        "- Average pause duration and count (indicator of hesitation or memory retrieval effort)\n",
        "- Hesitation marker count (\"uh\", \"um\")\n",
        "- Pitch variability (higher std indicates anxiety or uncertainty)\n",
        "\n",
        "**Model Used:**\n",
        "- Isolation Forest (Unsupervised Anomaly Detection)\n",
        "- PCA used for visualization\n",
        "\n",
        "**Next Steps:**\n",
        "- Use real patient data with ground truth\n",
        "- Enhance STT with better diarization\n",
        "- Use transformer-based text understanding for deeper analysis\n",
        "\n",
        "---\n",
        "\"\"\")\n"
      ],
      "metadata": {
        "colab": {
          "base_uri": "https://localhost:8080/",
          "height": 296
        },
        "id": "apFLGrqJhczu",
        "outputId": "f116414e-cebc-4fdd-f988-59fadfc097c7"
      },
      "execution_count": null,
      "outputs": [
        {
          "output_type": "execute_result",
          "data": {
            "text/plain": [
              "<IPython.core.display.Markdown object>"
            ],
            "text/markdown": "\n### 🔍 Report Summary\n\n**Most Insightful Features:**\n- Average pause duration and count (indicator of hesitation or memory retrieval effort)\n- Hesitation marker count (\"uh\", \"um\")\n- Pitch variability (higher std indicates anxiety or uncertainty)\n\n**Model Used:**\n- Isolation Forest (Unsupervised Anomaly Detection)\n- PCA used for visualization\n\n**Next Steps:**\n- Use real patient data with ground truth\n- Enhance STT with better diarization\n- Use transformer-based text understanding for deeper analysis\n\n---\n"
          },
          "metadata": {},
          "execution_count": 10
        }
      ]
    },
    {
      "cell_type": "code",
      "source": [
        "# Voice Analysis FastAPI Endpoint (main.py)\n",
        "\n",
        "from fastapi import FastAPI, File, UploadFile\n",
        "from fastapi.responses import JSONResponse\n",
        "from pydantic import BaseModel\n",
        "import uvicorn\n",
        "import whisper\n",
        "import librosa\n",
        "import numpy as np\n",
        "import tempfile\n",
        "import os\n",
        "\n",
        "app = FastAPI(title=\"Cognitive Voice Analysis API\")\n",
        "\n",
        "# Load Whisper model\n",
        "whisper_model = whisper.load_model(\"base\")\n",
        "\n",
        "# Feature extraction logic\n",
        "def analyze_audio(file_path, transcript):\n",
        "    y, sr = librosa.load(file_path)\n",
        "    duration = librosa.get_duration(y=y, sr=sr)\n",
        "\n",
        "    pitches, magnitudes = librosa.piptrack(y=y, sr=sr)\n",
        "    pitch = pitches[magnitudes > np.median(magnitudes)]\n",
        "    pitch_mean = float(np.mean(pitch)) if len(pitch) > 0 else 0\n",
        "    pitch_std = float(np.std(pitch)) if len(pitch) > 0 else 0\n",
        "\n",
        "    num_words = len(transcript.split())\n",
        "    speech_rate = float(num_words / duration)\n",
        "\n",
        "    intervals = librosa.effects.split(y, top_db=30)\n",
        "    silence_durations = []\n",
        "    for i in range(1, len(intervals)):\n",
        "        prev_end = intervals[i-1][1]\n",
        "        curr_start = intervals[i][0]\n",
        "        silence_durations.append((curr_start - prev_end) / sr)\n",
        "\n",
        "    avg_pause = float(np.mean(silence_durations)) if silence_durations else 0\n",
        "    pause_count = len(silence_durations)\n",
        "    hesitations = transcript.lower().count(\"uh\") + transcript.lower().count(\"um\")\n",
        "\n",
        "    return {\n",
        "        \"duration_sec\": duration,\n",
        "        \"speech_rate\": speech_rate,\n",
        "        \"avg_pause\": avg_pause,\n",
        "        \"pause_count\": pause_count,\n",
        "        \"pitch_mean\": pitch_mean,\n",
        "        \"pitch_std\": pitch_std,\n",
        "        \"hesitations\": hesitations,\n",
        "        \"transcript\": transcript\n",
        "    }\n",
        "\n",
        "@app.post(\"/analyze\")\n",
        "async def analyze(file: UploadFile = File(...)):\n",
        "    try:\n",
        "        with tempfile.NamedTemporaryFile(delete=False, suffix=\".wav\") as tmp:\n",
        "            tmp.write(await file.read())\n",
        "            tmp_path = tmp.name\n",
        "\n",
        "        result = whisper_model.transcribe(tmp_path)\n",
        "        transcript = result[\"text\"]\n",
        "        features = analyze_audio(tmp_path, transcript)\n",
        "\n",
        "        os.unlink(tmp_path)\n",
        "        return JSONResponse(content={\"filename\": file.filename, \"features\": features})\n",
        "\n",
        "    except Exception as e:\n",
        "        return JSONResponse(status_code=500, content={\"error\": str(e)})\n",
        "\n",
        "if __name__ == \"__main__\":\n",
        "    uvicorn.run(\"main:app\", host=\"0.0.0.0\", port=8000, reload=True)"
      ],
      "metadata": {
        "colab": {
          "base_uri": "https://localhost:8080/"
        },
        "id": "6f_TS_8biHYq",
        "outputId": "8ccc311f-852b-4ac8-8b55-9881ee01dca1"
      },
      "execution_count": null,
      "outputs": [
        {
          "output_type": "stream",
          "name": "stderr",
          "text": [
            "INFO:     Will watch for changes in these directories: ['/content']\n",
            "INFO:     Uvicorn running on http://0.0.0.0:8000 (Press CTRL+C to quit)\n",
            "INFO:     Started reloader process [608] using StatReload\n",
            "INFO:     Stopping reloader process [608]\n"
          ]
        }
      ]
    }
  ]
}